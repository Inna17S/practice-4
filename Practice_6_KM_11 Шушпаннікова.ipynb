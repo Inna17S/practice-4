{
  "nbformat": 4,
  "nbformat_minor": 2,
  "metadata": {
    "colab": {
      "name": "Practice_5_KM-03_.ipynb",
      "provenance": [],
      "collapsed_sections": []
    },
    "kernelspec": {
      "name": "python3",
      "display_name": "Python 3.8.5 64-bit ('base': conda)"
    },
    "language_info": {
      "name": "python",
      "version": "3.8.5",
      "mimetype": "text/x-python",
      "codemirror_mode": {
        "name": "ipython",
        "version": 3
      },
      "pygments_lexer": "ipython3",
      "nbconvert_exporter": "python",
      "file_extension": ".py"
    },
    "interpreter": {
      "hash": "0fb32aac5bec187b9744e244bb78c2946731df125d91bc510a8088af38610e03"
    }
  },
  "cells": [
    {
      "cell_type": "markdown",
      "source": [
        "# **Курс \"Програмування на мові Python\"**"
      ],
      "metadata": {
        "id": "FMqboNwO4rVs"
      }
    },
    {
      "cell_type": "markdown",
      "source": [
        "## **Практичне зайняття №6**\n",
        "### Тема: \"Робота з кортежами, множинами та словниками\""
      ],
      "metadata": {
        "id": "A2T6MigL5Z06"
      }
    },
    {
      "cell_type": "markdown",
      "source": [
        "### **Завдання 1 (1,5 бали)**\n",
        "\n",
        "Напишіть програму, яка визначала б, чи можна з літер однієї фрази скласти іншу фразу. Наприклад:\n",
        "\n",
        "\"William Shakespeare\" -> \"A small spark\"\n",
        "\n",
        "Перша фраза містить 11 унікальних літер (хоча деякі повторюються): a, e, h, i, k, l, m, p, r, s та w. Друга фраза містить 7 унікальних літер: a, k, l, m, p, r та s. Кожна з літер другої фрази зустрічається принаймні один раз у першій фразі.\n",
        "\n",
        "1. Обидві фрази повинні вводитись користувачем з клавіатури.\n",
        "\n",
        "2. Скористайтесь властивістю множин у мові програмування Python для виділення колекції унікальних літер.\n",
        "\n",
        "3. У множину не повинні потрапити пробіли, розділові знаки та інші символи, що не є літерами (скористайтесь методом **isalpha()**). Також усі літери мають бути переведені в нижній або верхній регістр (скористайтесь методами **lower()** або **upper()**).\n",
        "\n",
        "4. Зверніть увагу на те, що літери як в першій, так і вдругій фразі можуть повторюватись. Однак множина унікальних літер другої фрази повинна бути підмножиною множини унікальних літер першої фрази.\n",
        "\n",
        "5. У складі змістовного повідомлення програма повинна виводити множину літер першої фрази, множину літер другої фрази, а також змістовне повідомлення про те, чи можна скласти з літер першої фрази другу фразу."
      ],
      "metadata": {
        "id": "4AV5CN7N4xja"
      }
    },
    {
      "cell_type": "code",
      "execution_count": 1,
      "source": [
        "def str_to_set(s1): \r\n",
        "    s1 = s1.lower()\r\n",
        "    return set(list(s for s in s1 if s.isalpha()))   \r\n",
        "s1 = input('Enter the first phrase: ') \r\n",
        "s2 = input('Enter the second phrase: ')\r\n",
        "set_s1 = str_to_set(s1)\r\n",
        "set_s2 = str_to_set(s2)\r\n",
        "print(f'Set of letters 1 phrase: {set_s1}')\r\n",
        "print(f'Set of letters 2 phrase:{set_s2}')\r\n",
        "if set_s1 >= set_s2: \r\n",
        "    print(f'From the letters of phrase \\'{s1}\\'  can make phrase  \\'{s2}\\'')\r\n",
        "else:\r\n",
        "    print(f'From the letters of phrase \\'{s1}\\'  it is impossible to make phrase \\'{s2}\\'')"
      ],
      "outputs": [
        {
          "output_type": "stream",
          "name": "stdout",
          "text": [
            "Set of letters 1 phrase: {'s', 'a', 'm', 'r', 'l', 'h', 'e', 'p', 'i', 'w', 'k'}\n",
            "Set of letters 2 phrase:{'s', 'a', 'm', 'r', 'l', 'p', 'k'}\n",
            "From the letters of phrase 'William Shakespeare'  can make phrase  'A small spark'\n"
          ]
        }
      ],
      "metadata": {}
    },
    {
      "cell_type": "code",
      "execution_count": null,
      "source": [],
      "outputs": [],
      "metadata": {
        "id": "9Mesp1jV4xjb"
      }
    },
    {
      "cell_type": "markdown",
      "source": [
        "### **Завдання 2 (1,5 бали)**\n",
        "\n",
        "Скрабл (Ерудит) - це настільна гра, в якій від 2 до 4 гравців складають слова з наявних літер на полі розміром 15 х 15. За кожну використану літеру гравець отримує певну кількість балів. Перелік літер та балів, які можна отримати за використання цих літер, подано у таблиці.\n",
        "\n",
        "Бали | Літери\n",
        "--- | ---\n",
        "1 | A, E, I, L, N, O, R, S, T, U\n",
        "2 | D, G\n",
        "3 | B, C, M, P\n",
        "4 | F, H, V, W, Y\n",
        "5 | K\n",
        "8 | J, X\n",
        "10 | Q, Z\n",
        "\n",
        "Напишіть програму, яка підраховує та виводить загальну кількість балів, яку можна отримати за слово, введене користувачем з клавіатури.\n",
        "\n",
        "1. Скористайтесь словником для збереження усіх балів та літер, за які ці бали нараховуються. \n",
        "\n",
        "2. Якщо користувач введе кілька слів, виведіть бали, які можна отримати за кожне з них окремо.\n",
        "\n",
        "3. Якщо користувач введе символи, що не є літерами (окрім пробіла, який можна використовувати для розділення слів), програма має їх ігнорувати.\n",
        "\n",
        "4. Програма повинна приймати літери як верхнього, так і нижнього регістрів.\n",
        "\n",
        "Наприклад, якщо користувач введе \"Hello, World!\", програма повинна вивести:\n",
        "\n",
        "8 9\n",
        "\n",
        "або більш розгорнутий варіант (за бажанням):\n",
        "\n",
        "4+1+1+1+1=8\n",
        "\n",
        "4+1+1+1+2=9"
      ],
      "metadata": {
        "id": "t7fqn1NN-J7z"
      }
    },
    {
      "cell_type": "code",
      "execution_count": 2,
      "source": [
        "dict = {\r\n",
        "    'a': 1,\r\n",
        "    'e': 1,\r\n",
        "    'i': 1,\r\n",
        "    'l': 1,\r\n",
        "    'n': 1,\r\n",
        "    'o': 1,\r\n",
        "    'r': 1,\r\n",
        "    's': 1,\r\n",
        "    't': 1,\r\n",
        "    'u': 1,\r\n",
        "    'd': 2,\r\n",
        "    'g': 2,\r\n",
        "    'b': 3,\r\n",
        "    'c': 3,\r\n",
        "    'm': 3,\r\n",
        "    'p': 3,\r\n",
        "    'f': 4,\r\n",
        "    'h': 4,\r\n",
        "    'v': 4,\r\n",
        "    'w': 4,\r\n",
        "    'y': 4,\r\n",
        "    'j': 5,\r\n",
        "    'x': 5,\r\n",
        "    'k': 8,\r\n",
        "    'q': 10,\r\n",
        "    'z': 10}\r\n",
        "words= input('Enter words: ').lower()\r\n",
        "words = words.split()\r\n",
        "result = []\r\n",
        "for i in range(len(words)):\r\n",
        "    sum = 0\r\n",
        "    for f in words[i]:\r\n",
        "        try:\r\n",
        "            sum += dict[f]\r\n",
        "        except :\r\n",
        "            continue\r\n",
        "    result += [sum]\r\n",
        "print(result)"
      ],
      "outputs": [
        {
          "output_type": "stream",
          "name": "stdout",
          "text": [
            "[8, 9]\n"
          ]
        }
      ],
      "metadata": {
        "id": "EVY800vg4xjg"
      }
    }
  ]
}