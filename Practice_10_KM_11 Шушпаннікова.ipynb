{
  "cells": [
    {
      "cell_type": "markdown",
      "metadata": {
        "id": "FMqboNwO4rVs"
      },
      "source": [
        "# **Курс \"Програмування на мові Python\"**"
      ]
    },
    {
      "cell_type": "markdown",
      "metadata": {
        "id": "A2T6MigL5Z06"
      },
      "source": [
        "## **Практичне зайняття №10**\n",
        "\n",
        "### Тема: \"Лямбда-функції. Функції вищих порядків\""
      ]
    },
    {
      "cell_type": "markdown",
      "metadata": {
        "id": "cfCdgK2zXm7e"
      },
      "source": [
        "### **Завдання 1 (1 бал)**\n",
        "\n",
        "Продавець роздрібного товару влаштовує розпродаж. Для всіх товарів знижка однакова - 60%. Щоб вивісити нові цінники, продавець хоче скласти таблицю, в якій для кожного товару буде підрахована його нова вартість та сума знижки.\n",
        "\n",
        "Написати програму, яка буде генерувати таку таблицю. Вартість одиниць товарів до розпродажу подано у списку products_list. \n",
        "\n",
        "1. Для підрахунку невідомих значень повинні використовуватись вбудовані функції вищих порядків.\n",
        "\n",
        "2. Вартість з урахуванням знижки та суми знижок для кожного товару повинні зберігатись у двох окремих списках. Порядок товарів у нових списках повинен бути такий самий, як і в списку products_list.\n",
        "\n",
        "3. Кожне підраховане числове значення має бути округлене до сотих.\n",
        "\n",
        "4. Дані повинні виводитись у вигляді:\n",
        "\n",
        "**Discount table:**\n",
        "\n",
        "**29.25 11.7 17.55**\n",
        "\n",
        "**48.99 19.6 29.39**\n",
        "\n",
        "**...**\n",
        "\n",
        "\n",
        "products_list = [29.25, 48.99, 99.98, 124.65, 214.30, 543.90, 799.85]\n"
      ]
    },
    {
      "cell_type": "code",
      "execution_count": null,
      "metadata": {
        "id": "ifNX2M7LXm7f"
      },
      "outputs": [],
      "source": [
        "products_list=[29.25,48.99,99.98,124.65,214.30,543.90,799.85]\n",
        "discount_list = list(map(lambda iter: round(iter * 0.6,2), products_list))\n",
        "finalPrice_list = list(map(lambda iter: round(iter * 0.4,2), products_list))\n",
        "print(\"Table of discount goods:\")\n",
        "for i in range(0,7):\n",
        "    print(products_list[i] , \"\" , finalPrice_list[i] , \"\" ,discount_list[i] )"
      ]
    },
    {
      "cell_type": "markdown",
      "metadata": {},
      "source": [
        "### **Завдання 2 (2 бали)**\n",
        "\n",
        "Зазвичай рік має 365 днів. Однак у високосні роки додається ще один день - 29 лютого. Правила визначення високосного року такі:\n",
        "\n",
        "- Будь-який рік, що ділиться на 400 - високосний.\n",
        "\n",
        "- З тих років, що залишились, будь-який рік, що ділиться на 100 - **не** високосний.\n",
        "\n",
        "- З тих років, що залишились, будь-який рік, що ділиться на 4 - високосний.\n",
        "\n",
        "- Усі інші роки, що залишились - **не** високосні.\n",
        "\n",
        "1) Створіть функцію, в якій за допомогою вбудованих функцій вищих порядків будуть визначатися високосні роки серед перелічених років у списку years. Створена функція має повертати список високосних років.\n",
        "\n",
        "2) Створіть функцію вищих порядків, яка прийматиме на вхід попередню функцію та визначатиме кількість днів у місяці. Також функція повинна приймати на вхід ще 2 параметри: ціле число від 1 до 12 (місяць) та рік, як ціле чотирицифрове число. Ці значення корисувач має вводити з клавіатури. Перевірку введених даних слід виконувати поза межами функцій."
      ]
    },
    {
      "cell_type": "code",
      "execution_count": null,
      "metadata": {},
      "outputs": [],
      "source": [
        "import numpy as np\n",
        "\n",
        "years = np.arange(1900, 2020+1, 1)\n",
        "\n",
        "def check(z):\n",
        "    try:\n",
        "        int(z)\n",
        "        return True\n",
        "    except ValueError:\n",
        "        return False\n",
        "\n",
        "def leap(iter):\n",
        "    if iter in list(filter(lambda iter: iter % 400==0 or (iter%100!=0 and iter%4==0), years)):\n",
        "        return True\n",
        "    else:\n",
        "        return False\n",
        "D=list(filter(leap,years))\n",
        "print(\"Years:\",D)\n",
        "\n",
        "def month():\n",
        "    b=True\n",
        "    while b:\n",
        "        m=input('Enter number of month-')\n",
        "        if check(m)==True and int(m)>0 and int(m)<13 :\n",
        "            b=False\n",
        "        else:\n",
        "            print(\"Try again, 0 < number < 13 \")\n",
        "    return int(m)\n",
        "\n",
        "def year():\n",
        "    a=True\n",
        "    while a:\n",
        "        k=input(\"Enter year-\")\n",
        "        if check(k)==True and int(k)>0:\n",
        "            a=False\n",
        "        else:\n",
        "            print(\"Try again, year must be more than 0 and integer\")\n",
        "    return int(k)\n",
        "\n",
        "def d_month(d, m, k):\n",
        "    if m > 7: \n",
        "        return print(\"In\", m ,\"month\" , k, \" - 31 days\") if m % 2 == 0 else print(\"In\", m ,\"month\" , k, \" - 30 days\")\n",
        "    if m==2 and k in d:\n",
        "        print(\"In\", m ,\"month\" , k, \" - 29 days\")\n",
        "    elif m==2 and k not in d:\n",
        "        print(\"In\", m ,\"month\" , k, \" - 28 days\")\n",
        "    else: return print(\"In\", m ,\"month\" , k, \" - 30 days\") if m % 2 == 0 else print(\"In\", m ,\"month\" , k, \" - 30 days\")\n",
        "d_month(list(filter(leap,years)), month(), year())"
      ]
    }
  ],
  "metadata": {
    "colab": {
      "collapsed_sections": [],
      "name": "Practice_7_KM-01_.ipynb",
      "provenance": []
    },
    "kernelspec": {
      "display_name": "Python 3",
      "name": "python3"
    }
  },
  "nbformat": 4,
  "nbformat_minor": 0
}
