{
  "cells": [
    {
      "cell_type": "markdown",
      "metadata": {
        "id": "FMqboNwO4rVs"
      },
      "source": [
        "# **Курс \"Програмування на мові Python\"**"
      ]
    },
    {
      "cell_type": "markdown",
      "metadata": {
        "id": "A2T6MigL5Z06"
      },
      "source": [
        "## **Практичне зайняття №13**\n",
        "\n",
        "### Тема: \"Робота з файлами\""
      ]
    },
    {
      "cell_type": "markdown",
      "metadata": {
        "id": "cfCdgK2zXm7e"
      },
      "source": [
        "### **Завдання 1 (1,5 бали)**\n",
        "\n",
        "У 1939 році друком вийшов роман американського письменика Ернеста Вінсента Райта \"Ґетсбі\". Особливу увагу публіки він здобув через те, що письменник жодного разу не використав у романі літеру \"e\" (роман складається з більше ніж 50,000 слів), яка є найбільш вживаною літерою в англійській мові.\n",
        "\n",
        "Порахуйте кількість входжень кожної літери у текст роману. Виведіть список літер англійського алфавіту, а також інформацію про те, скільки відсотків від усіх літер тексту складає кожна літера алфавіту.\n",
        "\n",
        "Зауваження:\n",
        "\n",
        "1. Програма має ігнорувати будь-які символи, окрім літер.\n",
        "\n",
        "2. Переведіть усі літери у верхній або у нижній регістр.\n",
        "\n",
        "3. Під час виведення відсортуйте літери у порядку зменшення їхнього відсотка. Літера \"e\" має стояти на останньому місці у цьому списку (хоча кілька літер e там все ж таки зустрічається).\n",
        "\n",
        "4. Виведіть перші 5 та останні 5 літер відсортованого списку разом з відсотковими значеннями, що їм відповідають. Відсотки округліть до тисячних."
      ]
    },
    {
      "cell_type": "code",
      "execution_count": null,
      "metadata": {
        "id": "u4-fHJJ6U462",
        "tags": [
          "outputPrepend"
        ]
      },
      "outputs": [],
      "source": [
        "import string\n",
        "\n",
        "letters = []\n",
        "\n",
        "with open('gadsby.txt','r') as file:\n",
        "    letters = [*''.join(file.readlines()[120:])]\n",
        "    \n",
        "letters = [item.lower() for item in letters if item.isalpha()]\n",
        "length = len(letters)\n",
        "\n",
        "f = dict()\n",
        "for char in string.ascii_lowercase:\n",
        "    f[char] = letters.count(char)\n",
        "sorted = sorted(f.items(), key= lambda k: k[1], reverse = True)\n",
        "\n",
        "p = lambda k: (k[1] / length) * 100\n",
        "\n",
        "for el in sorted[:5]:\n",
        "    print(f'{el[0]} - {p(el(sad)6.3f}%')\n",
        "print('-----------')\n",
        "for el in sorted[-5:]:\n",
        "    print(f'{el[0]} - {p(el(sad)6.3f}%')"
      ]
    },
    {
      "cell_type": "markdown",
      "metadata": {
        "id": "A34oz70eU463"
      },
      "source": [
        "### **Завдання 2 (1,5 бали)**\n",
        "\n",
        "Архів archive.zip містить 140 txt-файлів, в яких збережено інфорамцію про те, якими іменами називали дітей у США в період з 1880 по 2019 рік.\n",
        "\n",
        "Структура рядка кожного файлу така:\n",
        "\n",
        "*name,sex,number_of_occurrences*\n",
        "\n",
        "Напишіть програму, яка зчитуватиме кожен файл та визначатиме окремо чоловічі, окремо жіночі імена, що були найпопулярнішими хоча б в один з років. Далі програма повинна підраховувати, скільки разів кожне з цих імен ставало найпопулярнишим, та виводити ранжовані списки чоловічіх та жіночих імен у вигляді:\n",
        "\n",
        "```\n",
        "Michael 44\n",
        "John 44\n",
        "Robert 17\n",
        "...\n",
        "\n",
        "Mary 76\n",
        "Jennifer 15\n",
        "Emily 12\n",
        "...\n",
        "```"
      ]
    },
    {
      "cell_type": "code",
      "execution_count": null,
      "metadata": {},
      "outputs": [],
      "source": [
        "import os\n",
        "\n",
        "os.listdir('archive.zip')\n",
        "\n",
        "letter = []\n",
        "\n",
        "for file in filter(lambda k: 'txt' in k,os.listdir('archive.zip')):\n",
        "    with open('archive.zip','r') as file:\n",
        "        lines = file.readlines()\n",
        "        for sex in ' max_from_file':\n",
        "            archive_s = list(filter(lambda line: sex in line.split(',')[1].lower(),lines))\n",
        "            m = 0\n",
        "            for line in archive_s:\n",
        "                m = max(m,int(line.split(',')[2]))\n",
        "            letter.extend([j for j in archive_s if int(j.split(',')[2]) == m])\n",
        "            \n",
        "s = []\n",
        "for sex in ' max_from_file':\n",
        "    k = []\n",
        "    for elem in {*[j[:-2].split(',')[0] for j in letter if j.split(',')[1].lower() == sex]}:\n",
        "        k.append([sex,elem,[j.split(',')[0] for j in letter].count(elem)][::-1])\n",
        "    s += sorted(k)[::-1]\n",
        "\n",
        "for sex in ' max_from_file':\n",
        "    if sex == ' ': \n",
        "        print('')\n",
        "    else: \n",
        "        print(*[str(elem[1])+' '+str(elem[0]) for elem in s if elem[2] == sex],sep='\\n')"
      ]
    }
  ],
  "metadata": {
    "colab": {
      "collapsed_sections": [],
      "name": "Practice_14_KM_01.ipynb",
      "provenance": []
    },
    "kernelspec": {
      "display_name": "Python 3",
      "name": "python3"
    },
    "language_info": {
      "codemirror_mode": {
        "name": "ipython",
        "version": 3
      },
      "file_extension": ".py",
      "mimetype": "text/x-python",
      "name": "python",
      "nbconvert_exporter": "python",
      "pygments_lexer": "ipython3",
      "version": "3.8.2"
    }
  },
  "nbformat": 4,
  "nbformat_minor": 0
}
