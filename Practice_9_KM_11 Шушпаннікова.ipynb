{
  "cells": [
    {
      "cell_type": "markdown",
      "metadata": {
        "id": "FMqboNwO4rVs"
      },
      "source": [
        "# **Курс \"Програмування на мові Python\"**"
      ]
    },
    {
      "cell_type": "markdown",
      "metadata": {
        "id": "A2T6MigL5Z06"
      },
      "source": [
        "## **Практичне зайняття №9**\n",
        "\n",
        "### Тема: \"Робота з функціями. Локальні та глобальні змінні\""
      ]
    },
    {
      "cell_type": "markdown",
      "metadata": {
        "id": "cfCdgK2zXm7e"
      },
      "source": [
        "### **Завдання 1 (3 бали)**\n",
        "\n",
        "**Підрахувати визначник матриці, використовуючи правило перестановок.**\n",
        "\n",
        "Функція random_matrix() призначена для створення квадратної матриці випадкових чисел. Її змінювати непотрібно.\n",
        "\n",
        "Приклад використання методу permutations() для створення списку перестановок також подається у комірці з кодом.\n",
        "\n",
        "1) Створити 3 функції: функцію створення списку перестановок, функцію підрахунку добутків та функцію підрахунку загальної суми.\n",
        "\n",
        "2) Кожна функція має супроводжуватись рядком документації, що буде коротко описувати її призначення.\n",
        "\n",
        "3) Розмірність квадратної матриці має вводитись користувачем з клавіатури. Підрахунки виконувати лише в тому разі, якщо користувач введе ціле додатне число.\n",
        "\n",
        "4) Загальний результат повинен підраховуватись за допомогою композиції функцій.\n",
        "\n",
        "За бажанням можна перевірити правильність роботи програми за допомогою функції np.linalg.det(a)."
      ]
    },
    {
      "cell_type": "code",
      "execution_count": 1,
      "metadata": {
        "id": "ifNX2M7LXm7f"
      },
      "outputs": [
        {
          "name": "stdout",
          "output_type": "stream",
          "text": [
            "Your matrix:\n",
            "\n",
            "8, 2, 2, 4, 9\n",
            "0, 4, 0, 1, 8\n",
            "6, 8, 5, 3, 1\n",
            "5, 2, 5, 7, 8\n",
            "0, 5, 9, 5, 4\n",
            "The determinant =  10005\n",
            "Checking the determinant by function in Python:  10005\n"
          ]
        }
      ],
      "source": [
        "import numpy as np\n",
        "import itertools\n",
        "\n",
        "def random_matrix(dim):\n",
        "    \"\"\"\n",
        "    The function generates dim x dim array of integers\n",
        "    between 0 and 10.\n",
        "    \"\"\"\n",
        "    matrix = np.random.randint(10, size = (dim, dim))\n",
        "    return matrix\n",
        "    \n",
        "#Example of using permutations() method\n",
        "#t = list(itertools.permutations('123', 3))\n",
        "\n",
        "def product_n():\n",
        "    k=True                                                   #Функція для введення правильного розміру матриці\n",
        "    while k:\n",
        "        try:\n",
        "            n=int(input(\"Enter size your matrix: \"))\n",
        "            if n<1:\n",
        "                print(\"You entered n<1,try again \")\n",
        "            else: \n",
        "                k=False\n",
        "        except ValueError:\n",
        "            print(\"You entered not integer number,try again\")\n",
        "        except Exception:\n",
        "            print(\"Eror , try again\")\n",
        "    return n\n",
        "n=product_n()\n",
        "matrix=random_matrix(n)\n",
        "print(\"Your matrix:\\n\")\n",
        "for i in matrix:\n",
        "        print(*i, sep=', ')\n",
        "def permutations(x):\n",
        "    perms = list(itertools.permutations([str(i) for i in range(1,x+1)], x))     #Функція, яка робить перестановки матричних елементів\n",
        "    return perms\n",
        "def f(inv):\n",
        "    global matrix\n",
        "    variable=[]\n",
        "    for a in inv:\n",
        "        side,number=1,0\n",
        "        for k in range(len(a)):\n",
        "            for i in range(k+1):                         #Функція розраховує перемноження елементів\n",
        "                if a[i]>a[k]:\n",
        "                    number+=1\n",
        "        for i in range(len(a)):\n",
        "            side = side*int(matrix[i][int(a[i])-1])\n",
        "        variable.append(pow(-1,number)*side)\n",
        "    return variable\n",
        "def sums(list):                                           #Функція підраховує суму елементів множення\n",
        "    s=0                                                    \n",
        "    for i in list:\n",
        "        s+=i\n",
        "    return s\n",
        "print(\"The determinant = \", sums(f(permutations(n))))\n",
        "print(\"Checking the determinant by function in Python: \", round(np.linalg.det(matrix)))"
      ]
    }
  ],
  "metadata": {
    "colab": {
      "collapsed_sections": [],
      "name": "Practice_7_KM-01_.ipynb",
      "provenance": []
    },
    "interpreter": {
      "hash": "93f58fa484cc86ae0f73c6e26d4bde2c27d5e9d603810e6be6ed5248991bca14"
    },
    "kernelspec": {
      "display_name": "Python 3.9.7 64-bit",
      "name": "python3"
    },
    "language_info": {
      "codemirror_mode": {
        "name": "ipython",
        "version": 3
      },
      "file_extension": ".py",
      "mimetype": "text/x-python",
      "name": "python",
      "nbconvert_exporter": "python",
      "pygments_lexer": "ipython3",
      "version": "3.9.7"
    }
  },
  "nbformat": 4,
  "nbformat_minor": 0
}
